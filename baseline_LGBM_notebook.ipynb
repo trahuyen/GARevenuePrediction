{
 "cells": [
  {
   "cell_type": "markdown",
   "metadata": {},
   "source": [
    "# SRK\n",
    "\n",
    "https://www.kaggle.com/sudalairajkumar/simple-exploration-baseline-ga-customer-revenue/notebook"
   ]
  },
  {
   "cell_type": "markdown",
   "metadata": {
    "_uuid": "bb32cc5d2722e96bb02725aaece54c5509bdacb9"
   },
   "source": [
    "**Objective of the notebook:**\n",
    "\n",
    "In this notebook, let us explore the given dataset and make some inferences along the way. Also finally we will build a baseline light gbm model to get started. \n",
    "\n",
    "**Objective of the competition:**\n",
    "\n",
    "In this competition, we a’re challenged to analyze a Google Merchandise Store (also known as GStore, where Google swag is sold) customer dataset to predict revenue per customer. "
   ]
  },
  {
   "cell_type": "code",
   "execution_count": null,
   "metadata": {
    "ExecuteTime": {
     "end_time": "2018-10-24T17:40:41.762873Z",
     "start_time": "2018-10-24T17:40:31.139088Z"
    },
    "_cell_guid": "b1076dfc-b9ad-4769-8c92-a6c4dae69d19",
    "_kg_hide-input": true,
    "_uuid": "8f2839f25d086af736a60e9eeb907d3b93b6e0e5"
   },
   "outputs": [],
   "source": [
    "# Data load & prep imports\n",
    "import os\n",
    "import json\n",
    "import numpy as np\n",
    "import pandas as pd\n",
    "from pandas.io.json import json_normalize\n",
    "pd.options.mode.chained_assignment = None\n",
    "pd.options.display.max_columns = 999\n",
    "\n",
    "# Data Viz imports\n",
    "import matplotlib.pyplot as plt\n",
    "import matplotlib.style as style\n",
    "import seaborn as sns\n",
    "style.use('fivethirtyeight')\n",
    "color = sns.color_palette()\n",
    "# sns.set_style(\"darkgrid\")\n",
    "%matplotlib inline\n",
    "\n",
    "from plotly import tools\n",
    "import plotly.offline as py\n",
    "py.init_notebook_mode(connected=True)\n",
    "import plotly.graph_objs as go"
   ]
  },
  {
   "cell_type": "code",
   "execution_count": null,
   "metadata": {
    "ExecuteTime": {
     "end_time": "2018-10-24T17:40:42.443049Z",
     "start_time": "2018-10-24T17:40:41.769841Z"
    },
    "_cell_guid": "b1076dfc-b9ad-4769-8c92-a6c4dae69d19",
    "_kg_hide-input": true,
    "_uuid": "8f2839f25d086af736a60e9eeb907d3b93b6e0e5"
   },
   "outputs": [],
   "source": [
    "# ML imports\n",
    "from sklearn import model_selection, preprocessing, metrics\n",
    "import lightgbm as lgb"
   ]
  },
  {
   "cell_type": "markdown",
   "metadata": {
    "_uuid": "a6868c4286025cdb431e9f6c51e4ee714d594fca"
   },
   "source": [
    "**About the dataset:**\n",
    "\n",
    "Similar to most other kaggle competitions, we are given two datasets\n",
    "* train.csv\n",
    "* test.csv\n",
    "\n",
    "Each row in the dataset is one visit to the store. We are predicting the natural log of the sum of all transactions per user. \n",
    "    \n",
    "The data fields in the given files are \n",
    "* fullVisitorId- A unique identifier for each user of the Google Merchandise Store.\n",
    "* channelGrouping - The channel via which the user came to the Store.\n",
    "* date - The date on which the user visited the Store.\n",
    "* device - The specifications for the device used to access the Store.\n",
    "* geoNetwork - This section contains information about the geography of the user.\n",
    "* sessionId - A unique identifier for this visit to the store.\n",
    "* socialEngagementType - Engagement type, either \"Socially Engaged\" or \"Not Socially Engaged\".\n",
    "* totals - This section contains aggregate values across the session.\n",
    "* trafficSource - This section contains information about the Traffic Source from which the session originated.\n",
    "* visitId - An identifier for this session. This is part of the value usually stored as the _utmb cookie. This is only unique to the user. For a completely unique ID, you should use a combination of fullVisitorId and visitId.\n",
    "* visitNumber - The session number for this user. If this is the first session, then this is set to 1.\n",
    "* visitStartTime - The timestamp (expressed as POSIX time).\n",
    "\n",
    "Also it is important to note that some of the fields are in json format. \n",
    "\n",
    "Thanks to this [wonderful kernel](https://www.kaggle.com/julian3833/1-quick-start-read-csv-and-flatten-json-fields/notebook) by [Julian](https://www.kaggle.com/julian3833), we can convert all the json fields in the file to a flattened csv format which generally use in other competitions."
   ]
  },
  {
   "cell_type": "code",
   "execution_count": null,
   "metadata": {
    "ExecuteTime": {
     "end_time": "2018-10-24T17:49:05.773578Z",
     "start_time": "2018-10-24T17:49:05.732689Z"
    },
    "scrolled": false
   },
   "outputs": [],
   "source": [
    "JSON_COLUMNS = ['device', 'geoNetwork', 'totals', 'trafficSource']\n",
    "df = pd.read_csv('data/train.csv',\n",
    "                 converters={\n",
    "                     column: json.loads for column in JSON_COLUMNS},\n",
    "                 dtype={'fullVisitorId': 'str'},  # Important!!\n",
    "                 nrows=5)\n",
    "df"
   ]
  },
  {
   "cell_type": "code",
   "execution_count": null,
   "metadata": {
    "ExecuteTime": {
     "end_time": "2018-09-29T06:44:03.331041Z",
     "start_time": "2018-09-29T06:44:03.317061Z"
    },
    "_cell_guid": "79c7e3d0-c299-4dcb-8224-4455121ee9b0",
    "_uuid": "d629ff2d2480ee46fbb7e2d37f6b5fab8052498a"
   },
   "outputs": [],
   "source": [
    "def load_df(csv_path, nrows=None):\n",
    "    JSON_COLUMNS = ['device', 'geoNetwork', 'totals', 'trafficSource']\n",
    "\n",
    "    df = pd.read_csv(csv_path,\n",
    "                     converters={\n",
    "                         column: json.loads for column in JSON_COLUMNS},\n",
    "                     dtype={'fullVisitorId': 'str'},  # Important!!\n",
    "                     nrows=nrows)\n",
    "\n",
    "    for column in JSON_COLUMNS:\n",
    "        column_as_df = json_normalize(df[column])\n",
    "        column_as_df.columns = [\n",
    "            f\"{column}.{subcolumn}\" for subcolumn in column_as_df.columns]\n",
    "        df = df.drop(column, axis=1).merge(\n",
    "            column_as_df, right_index=True, left_index=True)\n",
    "    print(f\"Loaded {os.path.basename(csv_path)}. Shape: {df.shape}\")\n",
    "    return df"
   ]
  },
  {
   "cell_type": "code",
   "execution_count": null,
   "metadata": {
    "ExecuteTime": {
     "end_time": "2018-09-29T06:46:14.256993Z",
     "start_time": "2018-09-29T06:44:04.970953Z"
    },
    "_uuid": "e08fe7f8ec7419ba476cd52664140ed6ae736a8c"
   },
   "outputs": [],
   "source": [
    "# %%time\n",
    "train_df = load_df('data/train.csv')"
   ]
  },
  {
   "cell_type": "code",
   "execution_count": null,
   "metadata": {
    "ExecuteTime": {
     "end_time": "2018-09-29T06:48:10.313157Z",
     "start_time": "2018-09-29T06:46:14.483353Z"
    },
    "_uuid": "e08fe7f8ec7419ba476cd52664140ed6ae736a8c"
   },
   "outputs": [],
   "source": [
    "test_df = load_df('data/test.csv')"
   ]
  },
  {
   "cell_type": "code",
   "execution_count": null,
   "metadata": {
    "ExecuteTime": {
     "end_time": "2018-09-29T08:49:37.003718Z",
     "start_time": "2018-09-29T08:49:36.516428Z"
    }
   },
   "outputs": [],
   "source": [
    "train_df.iloc[:15, :15]"
   ]
  },
  {
   "cell_type": "code",
   "execution_count": null,
   "metadata": {
    "ExecuteTime": {
     "end_time": "2018-09-29T06:48:24.345189Z",
     "start_time": "2018-09-29T06:48:24.294326Z"
    },
    "_uuid": "302c2b9449b6173ed44ad1d27d3547573368afd4",
    "scrolled": true
   },
   "outputs": [],
   "source": [
    "train_df.head()"
   ]
  },
  {
   "cell_type": "markdown",
   "metadata": {
    "_uuid": "dcaa5e0839118e5e2d9192f450569309e8c3798d"
   },
   "source": [
    "**Target Variable Exploration:**\n",
    "\n",
    "Since we are predicting the natural log of sum of all transactions of the user, let us sum up the transaction revenue at user level and take a log and then do a scatter plot."
   ]
  },
  {
   "cell_type": "code",
   "execution_count": null,
   "metadata": {
    "ExecuteTime": {
     "end_time": "2018-09-29T06:48:59.042662Z",
     "start_time": "2018-09-29T06:48:59.036679Z"
    },
    "scrolled": true
   },
   "outputs": [],
   "source": [
    "train_df.columns"
   ]
  },
  {
   "cell_type": "code",
   "execution_count": null,
   "metadata": {
    "ExecuteTime": {
     "end_time": "2018-09-29T06:50:16.425767Z",
     "start_time": "2018-09-29T06:50:10.244999Z"
    },
    "_uuid": "09744db3d19167bcb29c298ee5b248004bdb01c1"
   },
   "outputs": [],
   "source": [
    "train_df[\"totals.transactionRevenue\"] = train_df[\"totals.transactionRevenue\"].astype(\n",
    "    'float')\n",
    "\n",
    "gdf = train_df.groupby(\"fullVisitorId\")[\n",
    "    \"totals.transactionRevenue\"].sum().reset_index()"
   ]
  },
  {
   "cell_type": "code",
   "execution_count": null,
   "metadata": {
    "ExecuteTime": {
     "end_time": "2018-09-29T07:00:31.869047Z",
     "start_time": "2018-09-29T07:00:26.924362Z"
    }
   },
   "outputs": [],
   "source": [
    "plt.figure(figsize=(8, 6))\n",
    "plt.scatter(range(gdf.shape[0]), np.sort(\n",
    "    np.log1p(gdf[\"totals.transactionRevenue\"].values)))\n",
    "plt.xlabel('index', fontsize=12)\n",
    "plt.ylabel('TransactionRevenue', fontsize=12)\n",
    "plt.show()"
   ]
  },
  {
   "cell_type": "markdown",
   "metadata": {
    "_uuid": "45d9283ef187997aaf8e16acf8dbe47b7fc0a046"
   },
   "source": [
    "Wow, This confirms the first two lines of the competition overview.\n",
    "    * The 80/20 rule has proven true for many businesses–only a small percentage of customers produce most of the revenue. As such, marketing teams are challenged to make appropriate investments in promotional strategies.\n",
    "Infact in this case, the ratio is even less.     "
   ]
  },
  {
   "cell_type": "code",
   "execution_count": null,
   "metadata": {
    "ExecuteTime": {
     "end_time": "2018-09-29T07:00:59.708976Z",
     "start_time": "2018-09-29T07:00:59.680094Z"
    },
    "_uuid": "4a86c2c2d3a8191845bd799e1124c6d94fcc04ff"
   },
   "outputs": [],
   "source": [
    "nzi = pd.notnull(train_df[\"totals.transactionRevenue\"]).sum()\n",
    "nzr = (gdf[\"totals.transactionRevenue\"] > 0).sum()\n",
    "print(\"Number of instances in train set with non-zero revenue : \",\n",
    "      nzi, \" and ratio is : \", nzi / train_df.shape[0])\n",
    "print(\"Number of unique customers with non-zero revenue : \",\n",
    "      nzr, \"and the ratio is : \", nzr / gdf.shape[0])"
   ]
  },
  {
   "cell_type": "markdown",
   "metadata": {
    "_uuid": "569d56cf56f6134872a47e89c8654aff2ca7562c"
   },
   "source": [
    "So the ratio of revenue generating customers to customers with no revenue is in the ratio os 1.3%\n",
    "\n",
    "Since most of the rows have non-zero revenues, in the following plots let us have a look at the count of each category of the variable along with the number of instances where the revenue is not zero.\n",
    "\n",
    "** Number of visitors and common visitors:**\n",
    "\n",
    "Now let us look at the number of unique visitors in the train and test set and also the number of common visitors."
   ]
  },
  {
   "cell_type": "code",
   "execution_count": null,
   "metadata": {
    "ExecuteTime": {
     "end_time": "2018-09-29T07:01:11.638066Z",
     "start_time": "2018-09-29T07:01:10.558741Z"
    },
    "_uuid": "dcc528a15dda0f853516375bd7e2e73aec09ac75"
   },
   "outputs": [],
   "source": [
    "print(\"Number of unique visitors in train set : \",\n",
    "      train_df.fullVisitorId.nunique(), \" out of rows : \", train_df.shape[0])\n",
    "print(\"Number of unique visitors in test set : \",\n",
    "      test_df.fullVisitorId.nunique(), \" out of rows : \", test_df.shape[0])\n",
    "print(\"Number of common visitors in train and test set : \", len(set(\n",
    "    train_df.fullVisitorId.unique()).intersection(set(test_df.fullVisitorId.unique()))))"
   ]
  },
  {
   "cell_type": "markdown",
   "metadata": {
    "_uuid": "961119f995a317c8b937571890cf30ac66bd1969"
   },
   "source": [
    "**Columns with constant values: **\n",
    "\n",
    "Looks like there are quite a few features with constant value in the train set. Let us get the list of these features. As pointed by Svitlana in the comments below, let us not include the columns which has constant value and some null values. "
   ]
  },
  {
   "cell_type": "code",
   "execution_count": null,
   "metadata": {
    "ExecuteTime": {
     "end_time": "2018-09-29T07:01:19.776114Z",
     "start_time": "2018-09-29T07:01:13.581071Z"
    },
    "_uuid": "5eed694270d93fd7c2bc0a16a620fd329d59c2c1"
   },
   "outputs": [],
   "source": [
    "const_cols = [\n",
    "    c for c in train_df.columns if train_df[c].nunique(dropna=False) == 1]\n",
    "const_cols"
   ]
  },
  {
   "cell_type": "markdown",
   "metadata": {
    "_uuid": "66245f8c2294398511b88d68538578a962cbdf07"
   },
   "source": [
    "They are quite a few. Since the values are constant, we can just drop them from our feature list and save some memory and time in our modeling process. \n",
    "\n",
    "**Device Information:**"
   ]
  },
  {
   "cell_type": "code",
   "execution_count": null,
   "metadata": {
    "ExecuteTime": {
     "end_time": "2018-09-29T07:01:50.813054Z",
     "start_time": "2018-09-29T07:01:45.522924Z"
    },
    "_kg_hide-input": false,
    "_uuid": "c57e7e05554e2e19a694a934ffcef530baef47f4"
   },
   "outputs": [],
   "source": [
    "def horizontal_bar_chart(cnt_srs, color):\n",
    "    trace = go.Bar(\n",
    "        y=cnt_srs.index[::-1],\n",
    "        x=cnt_srs.values[::-1],\n",
    "        showlegend=False,\n",
    "        orientation='h',\n",
    "        marker=dict(\n",
    "            color=color,\n",
    "        ),\n",
    "    )\n",
    "    return trace\n",
    "\n",
    "\n",
    "# Device Browser\n",
    "cnt_srs = train_df.groupby('device.browser')[\n",
    "    'totals.transactionRevenue'].agg(['size', 'count', 'mean'])\n",
    "cnt_srs.columns = [\"count\", \"count of non-zero revenue\", \"mean\"]\n",
    "cnt_srs = cnt_srs.sort_values(by=\"count\", ascending=False)\n",
    "trace1 = horizontal_bar_chart(\n",
    "    cnt_srs[\"count\"].head(10), 'rgba(50, 171, 96, 0.6)')\n",
    "trace2 = horizontal_bar_chart(\n",
    "    cnt_srs[\"count of non-zero revenue\"].head(10), 'rgba(50, 171, 96, 0.6)')\n",
    "trace3 = horizontal_bar_chart(\n",
    "    cnt_srs[\"mean\"].head(10), 'rgba(50, 171, 96, 0.6)')\n",
    "\n",
    "# Device Category\n",
    "cnt_srs = train_df.groupby('device.deviceCategory')[\n",
    "    'totals.transactionRevenue'].agg(['size', 'count', 'mean'])\n",
    "cnt_srs.columns = [\"count\", \"count of non-zero revenue\", \"mean\"]\n",
    "cnt_srs = cnt_srs.sort_values(by=\"count\", ascending=False)\n",
    "trace4 = horizontal_bar_chart(\n",
    "    cnt_srs[\"count\"].head(10), 'rgba(71, 58, 131, 0.8)')\n",
    "trace5 = horizontal_bar_chart(\n",
    "    cnt_srs[\"count of non-zero revenue\"].head(10), 'rgba(71, 58, 131, 0.8)')\n",
    "trace6 = horizontal_bar_chart(\n",
    "    cnt_srs[\"mean\"].head(10), 'rgba(71, 58, 131, 0.8)')\n",
    "\n",
    "# Operating system\n",
    "cnt_srs = train_df.groupby('device.operatingSystem')[\n",
    "    'totals.transactionRevenue'].agg(['size', 'count', 'mean'])\n",
    "cnt_srs.columns = [\"count\", \"count of non-zero revenue\", \"mean\"]\n",
    "cnt_srs = cnt_srs.sort_values(by=\"count\", ascending=False)\n",
    "trace7 = horizontal_bar_chart(\n",
    "    cnt_srs[\"count\"].head(10), 'rgba(246, 78, 139, 0.6)')\n",
    "trace8 = horizontal_bar_chart(\n",
    "    cnt_srs[\"count of non-zero revenue\"].head(10), 'rgba(246, 78, 139, 0.6)')\n",
    "trace9 = horizontal_bar_chart(\n",
    "    cnt_srs[\"mean\"].head(10), 'rgba(246, 78, 139, 0.6)')\n",
    "\n",
    "# Creating two subplots\n",
    "fig = tools.make_subplots(rows=3, cols=3, vertical_spacing=0.04,\n",
    "                          subplot_titles=[\"Device Browser - Count\", \"Device Browser - Non-zero Revenue Count\", \"Device Browser - Mean Revenue\",\n",
    "                                          \"Device Category - Count\",  \"Device Category - Non-zero Revenue Count\", \"Device Category - Mean Revenue\",\n",
    "                                          \"Device OS - Count\", \"Device OS - Non-zero Revenue Count\", \"Device OS - Mean Revenue\"])\n",
    "\n",
    "fig.append_trace(trace1, 1, 1)\n",
    "fig.append_trace(trace2, 1, 2)\n",
    "fig.append_trace(trace3, 1, 3)\n",
    "fig.append_trace(trace4, 2, 1)\n",
    "fig.append_trace(trace5, 2, 2)\n",
    "fig.append_trace(trace6, 2, 3)\n",
    "fig.append_trace(trace7, 3, 1)\n",
    "fig.append_trace(trace8, 3, 2)\n",
    "fig.append_trace(trace9, 3, 3)\n",
    "\n",
    "fig['layout'].update(height=1200, width=1200,\n",
    "                     paper_bgcolor='rgb(233,233,233)', title=\"Device Plots\")\n",
    "py.iplot(fig, filename='device-plots')"
   ]
  },
  {
   "cell_type": "markdown",
   "metadata": {
    "_uuid": "832da86bcdc9fd153d4142f4bd5430c37915e271"
   },
   "source": [
    "Inferences:\n",
    "* Device browser distribution looks similar on both the count and count of non-zero revenue plots\n",
    "* On the device category front, desktop seem to have higher percentage of non-zero revenue counts compared to mobile devices.\n",
    "* In device operating system, though the number of counts is more from windows, the number of counts where revenue is not zero is more for Macintosh.\n",
    "* Chrome OS also has higher percentage of non-zero revenue counts\n",
    "* On the mobile OS side, iOS has more percentage of non-zero revenue counts compared to Android "
   ]
  },
  {
   "cell_type": "markdown",
   "metadata": {
    "_uuid": "832da86bcdc9fd153d4142f4bd5430c37915e271"
   },
   "source": [
    "**Date Exploration:**"
   ]
  },
  {
   "cell_type": "code",
   "execution_count": null,
   "metadata": {
    "ExecuteTime": {
     "end_time": "2018-09-29T07:02:15.936665Z",
     "start_time": "2018-09-29T07:02:11.305392Z"
    },
    "_kg_hide-input": true,
    "_uuid": "59eb3e903949d8345fd8747aac85eab66c0f42cd"
   },
   "outputs": [],
   "source": [
    "import datetime\n",
    "\n",
    "\n",
    "def scatter_plot(cnt_srs, color):\n",
    "    trace = go.Scatter(\n",
    "        x=cnt_srs.index[::-1],\n",
    "        y=cnt_srs.values[::-1],\n",
    "        showlegend=False,\n",
    "        marker=dict(\n",
    "            color=color,\n",
    "        ),\n",
    "    )\n",
    "    return trace\n",
    "\n",
    "\n",
    "train_df['date'] = train_df['date'].apply(lambda x: datetime.date(\n",
    "    int(str(x)[:4]), int(str(x)[4:6]), int(str(x)[6:])))\n",
    "cnt_srs = train_df.groupby(\n",
    "    'date')['totals.transactionRevenue'].agg(['size', 'count'])\n",
    "cnt_srs.columns = [\"count\", \"count of non-zero revenue\"]\n",
    "cnt_srs = cnt_srs.sort_index()\n",
    "#cnt_srs.index = cnt_srs.index.astype('str')\n",
    "trace1 = scatter_plot(cnt_srs[\"count\"], 'red')\n",
    "trace2 = scatter_plot(cnt_srs[\"count of non-zero revenue\"], 'blue')\n",
    "\n",
    "fig = tools.make_subplots(rows=2, cols=1, vertical_spacing=0.08,\n",
    "                          subplot_titles=[\"Date - Count\", \"Date - Non-zero Revenue count\"])\n",
    "fig.append_trace(trace1, 1, 1)\n",
    "fig.append_trace(trace2, 2, 1)\n",
    "fig['layout'].update(height=800, width=800,\n",
    "                     paper_bgcolor='rgb(233,233,233)', title=\"Date Plots\")\n",
    "py.iplot(fig, filename='date-plots')"
   ]
  },
  {
   "cell_type": "markdown",
   "metadata": {
    "_uuid": "3f35771ef1b28f298d1a266d24e8d2a77626ccf0"
   },
   "source": [
    "Inferences:\n",
    "* We have data from 1 Aug, 2016 to 31 July, 2017 in our training dataset\n",
    "* In Nov 2016, though there is an increase in the count of visitors, there is no increase in non-zero revenue counts during that time period (relative to the mean)."
   ]
  },
  {
   "cell_type": "code",
   "execution_count": null,
   "metadata": {
    "ExecuteTime": {
     "end_time": "2018-09-29T07:02:22.467944Z",
     "start_time": "2018-09-29T07:02:18.904836Z"
    },
    "_kg_hide-input": true,
    "_uuid": "08f4a090a5928029e4b47b660afd71d952002146"
   },
   "outputs": [],
   "source": [
    "test_df['date'] = test_df['date'].apply(lambda x: datetime.date(\n",
    "    int(str(x)[:4]), int(str(x)[4:6]), int(str(x)[6:])))\n",
    "cnt_srs = test_df.groupby('date')['fullVisitorId'].size()\n",
    "\n",
    "\n",
    "trace = scatter_plot(cnt_srs, 'red')\n",
    "\n",
    "layout = go.Layout(\n",
    "    height=400,\n",
    "    width=800,\n",
    "    paper_bgcolor='rgb(233,233,233)',\n",
    "    title='Dates in Test set'\n",
    ")\n",
    "\n",
    "data = [trace]\n",
    "fig = go.Figure(data=data, layout=layout)\n",
    "py.iplot(fig, filename=\"ActivationDate\")"
   ]
  },
  {
   "cell_type": "markdown",
   "metadata": {
    "_uuid": "3f98518587981622a86b31c3e3ce7ab70a2a349e"
   },
   "source": [
    "In the test set, we have dates from 2 Aug, 2017 to 30 Apr, 2018. So there are no common dates between train and test set. So it might be a good idea to do time based validation for this dataset.\n",
    "\n",
    "**Geographic Information:**"
   ]
  },
  {
   "cell_type": "code",
   "execution_count": null,
   "metadata": {
    "ExecuteTime": {
     "end_time": "2018-09-29T07:02:29.089225Z",
     "start_time": "2018-09-29T07:02:28.272270Z"
    },
    "_kg_hide-input": true,
    "_uuid": "fcb64598e3f9d0931e140f56c70d4dd5dc6f7c75",
    "scrolled": false
   },
   "outputs": [],
   "source": [
    "# Continent\n",
    "cnt_srs = train_df.groupby('geoNetwork.continent')[\n",
    "    'totals.transactionRevenue'].agg(['size', 'count', 'mean'])\n",
    "cnt_srs.columns = [\"count\", \"count of non-zero revenue\", \"mean\"]\n",
    "cnt_srs = cnt_srs.sort_values(by=\"count\", ascending=False)\n",
    "trace1 = horizontal_bar_chart(\n",
    "    cnt_srs[\"count\"].head(10), 'rgba(58, 71, 80, 0.6)')\n",
    "trace2 = horizontal_bar_chart(\n",
    "    cnt_srs[\"count of non-zero revenue\"].head(10), 'rgba(58, 71, 80, 0.6)')\n",
    "trace3 = horizontal_bar_chart(\n",
    "    cnt_srs[\"mean\"].head(10), 'rgba(58, 71, 80, 0.6)')\n",
    "\n",
    "# Sub-continent\n",
    "cnt_srs = train_df.groupby('geoNetwork.subContinent')[\n",
    "    'totals.transactionRevenue'].agg(['size', 'count', 'mean'])\n",
    "cnt_srs.columns = [\"count\", \"count of non-zero revenue\", \"mean\"]\n",
    "cnt_srs = cnt_srs.sort_values(by=\"count\", ascending=False)\n",
    "trace4 = horizontal_bar_chart(cnt_srs[\"count\"], 'orange')\n",
    "trace5 = horizontal_bar_chart(cnt_srs[\"count of non-zero revenue\"], 'orange')\n",
    "trace6 = horizontal_bar_chart(cnt_srs[\"mean\"], 'orange')\n",
    "\n",
    "# Network domain\n",
    "cnt_srs = train_df.groupby('geoNetwork.networkDomain')[\n",
    "    'totals.transactionRevenue'].agg(['size', 'count', 'mean'])\n",
    "cnt_srs.columns = [\"count\", \"count of non-zero revenue\", \"mean\"]\n",
    "cnt_srs = cnt_srs.sort_values(by=\"count\", ascending=False)\n",
    "trace7 = horizontal_bar_chart(cnt_srs[\"count\"].head(10), 'blue')\n",
    "trace8 = horizontal_bar_chart(\n",
    "    cnt_srs[\"count of non-zero revenue\"].head(10), 'blue')\n",
    "trace9 = horizontal_bar_chart(cnt_srs[\"mean\"].head(10), 'blue')\n",
    "\n",
    "# Creating two subplots\n",
    "fig = tools.make_subplots(rows=3, cols=3, vertical_spacing=0.08, horizontal_spacing=0.15,\n",
    "                          subplot_titles=[\"Continent - Count\", \"Continent - Non-zero Revenue Count\", \"Continent - Mean Revenue\",\n",
    "                                          \"Sub Continent - Count\",  \"Sub Continent - Non-zero Revenue Count\", \"Sub Continent - Mean Revenue\",\n",
    "                                          \"Network Domain - Count\", \"Network Domain - Non-zero Revenue Count\", \"Network Domain - Mean Revenue\"])\n",
    "\n",
    "fig.append_trace(trace1, 1, 1)\n",
    "fig.append_trace(trace2, 1, 2)\n",
    "fig.append_trace(trace3, 1, 3)\n",
    "fig.append_trace(trace4, 2, 1)\n",
    "fig.append_trace(trace5, 2, 2)\n",
    "fig.append_trace(trace6, 2, 3)\n",
    "fig.append_trace(trace7, 3, 1)\n",
    "fig.append_trace(trace8, 3, 2)\n",
    "fig.append_trace(trace9, 3, 3)\n",
    "\n",
    "fig['layout'].update(height=1500, width=1200,\n",
    "                     paper_bgcolor='rgb(233,233,233)', title=\"Geography Plots\")\n",
    "py.iplot(fig, filename='geo-plots')"
   ]
  },
  {
   "cell_type": "markdown",
   "metadata": {
    "_uuid": "acba2fcee5fe10d5985a7daf9cc88aaa7a55f4b0"
   },
   "source": [
    "Inferences:\n",
    "* On the continent plot, we can see that America has both higher number of counts as well as highest number of counts where the revenue is non-zero\n",
    "* Though Asia and Europe has high number of counts, the number of non-zero revenue counts from these continents are comparatively low. \n",
    "* We can infer the first two points from the sub-continents plot too.\n",
    "* If the network domain is \"unknown.unknown\" rather than \"(not set)\", then the number of counts with non-zero revenue tend to be lower. \n",
    "\n",
    "**Traffic Source:**\n"
   ]
  },
  {
   "cell_type": "code",
   "execution_count": null,
   "metadata": {
    "ExecuteTime": {
     "end_time": "2018-09-29T07:02:35.741435Z",
     "start_time": "2018-09-29T07:02:35.299580Z"
    },
    "_kg_hide-input": true,
    "_uuid": "be180a4dbb76e68b449487a6dbc214a7fac35f61",
    "scrolled": true
   },
   "outputs": [],
   "source": [
    "# Continent\n",
    "cnt_srs = train_df.groupby('trafficSource.source')[\n",
    "    'totals.transactionRevenue'].agg(['size', 'count', 'mean'])\n",
    "cnt_srs.columns = [\"count\", \"count of non-zero revenue\", \"mean\"]\n",
    "cnt_srs = cnt_srs.sort_values(by=\"count\", ascending=False)\n",
    "trace1 = horizontal_bar_chart(cnt_srs[\"count\"].head(10), 'green')\n",
    "trace2 = horizontal_bar_chart(\n",
    "    cnt_srs[\"count of non-zero revenue\"].head(10), 'green')\n",
    "trace3 = horizontal_bar_chart(cnt_srs[\"mean\"].head(10), 'green')\n",
    "\n",
    "# Sub-continent\n",
    "cnt_srs = train_df.groupby('trafficSource.medium')[\n",
    "    'totals.transactionRevenue'].agg(['size', 'count', 'mean'])\n",
    "cnt_srs.columns = [\"count\", \"count of non-zero revenue\", \"mean\"]\n",
    "cnt_srs = cnt_srs.sort_values(by=\"count\", ascending=False)\n",
    "trace4 = horizontal_bar_chart(cnt_srs[\"count\"], 'purple')\n",
    "trace5 = horizontal_bar_chart(cnt_srs[\"count of non-zero revenue\"], 'purple')\n",
    "trace6 = horizontal_bar_chart(cnt_srs[\"mean\"], 'purple')\n",
    "\n",
    "# Creating two subplots\n",
    "fig = tools.make_subplots(rows=2, cols=3, vertical_spacing=0.08, horizontal_spacing=0.15,\n",
    "                          subplot_titles=[\"Traffic Source - Count\", \"Traffic Source - Non-zero Revenue Count\", \"Traffic Source - Mean Revenue\",\n",
    "                                          \"Traffic Source Medium - Count\",  \"Traffic Source Medium - Non-zero Revenue Count\", \"Traffic Source Medium - Mean Revenue\"\n",
    "                                          ])\n",
    "\n",
    "fig.append_trace(trace1, 1, 1)\n",
    "fig.append_trace(trace2, 1, 2)\n",
    "fig.append_trace(trace3, 1, 3)\n",
    "fig.append_trace(trace4, 2, 1)\n",
    "fig.append_trace(trace5, 2, 2)\n",
    "fig.append_trace(trace6, 2, 3)\n",
    "\n",
    "fig['layout'].update(height=1000, width=1200,\n",
    "                     paper_bgcolor='rgb(233,233,233)', title=\"Traffic Source Plots\")\n",
    "py.iplot(fig, filename='traffic-source-plots')"
   ]
  },
  {
   "cell_type": "markdown",
   "metadata": {
    "_uuid": "f36fe7649aba0b26a3026dd0fb6ec8e8b9b69168"
   },
   "source": [
    "Inferences:\n",
    "* In the traffic source plot, though Youtube has high number of counts in the dataset, the number of non-zero revenue counts are very less. \n",
    "* Google plex has a high ratio of non-zero revenue count to total count in the traffic source plot. \n",
    "* On the traffic source medium, \"referral\" has more number of non-zero revenue count compared to \"organic\" medium.\n",
    "\n",
    "**Visitor Profile:**\n",
    "\n",
    "Now let us look at the visitor profile variables like number of pageviews by the visitor, number of hits by the visitor and see how they look."
   ]
  },
  {
   "cell_type": "code",
   "execution_count": null,
   "metadata": {
    "ExecuteTime": {
     "end_time": "2018-09-29T07:02:38.283568Z",
     "start_time": "2018-09-29T07:02:37.543863Z"
    },
    "_kg_hide-input": true,
    "_uuid": "6b4042af5aa1c3b5aa79ba6d60d4af3554e510e7"
   },
   "outputs": [],
   "source": [
    "# Page views\n",
    "cnt_srs = train_df.groupby('totals.pageviews')[\n",
    "    'totals.transactionRevenue'].agg(['size', 'count', 'mean'])\n",
    "cnt_srs.columns = [\"count\", \"count of non-zero revenue\", \"mean\"]\n",
    "cnt_srs = cnt_srs.sort_values(by=\"count\", ascending=False)\n",
    "trace1 = horizontal_bar_chart(cnt_srs[\"count\"].head(60), 'cyan')\n",
    "trace2 = horizontal_bar_chart(\n",
    "    cnt_srs[\"count of non-zero revenue\"].head(60), 'cyan')\n",
    "trace5 = horizontal_bar_chart(cnt_srs[\"mean\"].head(60), 'cyan')\n",
    "\n",
    "# Hits\n",
    "cnt_srs = train_df.groupby('totals.hits')[\n",
    "    'totals.transactionRevenue'].agg(['size', 'count', 'mean'])\n",
    "cnt_srs.columns = [\"count\", \"count of non-zero revenue\", 'mean']\n",
    "cnt_srs = cnt_srs.sort_values(by=\"count\", ascending=False)\n",
    "trace3 = horizontal_bar_chart(cnt_srs[\"count\"].head(60), 'black')\n",
    "trace4 = horizontal_bar_chart(\n",
    "    cnt_srs[\"count of non-zero revenue\"].head(60), 'black')\n",
    "trace6 = horizontal_bar_chart(cnt_srs[\"mean\"].head(60), 'black')\n",
    "\n",
    "# Creating two subplots\n",
    "fig = tools.make_subplots(rows=2, cols=3, vertical_spacing=0.08, horizontal_spacing=0.15,\n",
    "                          subplot_titles=[\"Total Pageviews - Count\", \"Total Pageviews - Non-zero Revenue Count\", \"Total Pageviews - Mean Revenue\",\n",
    "                                          \"Total Hits - Count\",  \"Total Hits - Non-zero Revenue Count\", \"Total Hits - Mean Revenue\"])\n",
    "\n",
    "fig.append_trace(trace1, 1, 1)\n",
    "fig.append_trace(trace2, 1, 2)\n",
    "fig.append_trace(trace5, 1, 3)\n",
    "fig.append_trace(trace3, 2, 1)\n",
    "fig.append_trace(trace4, 2, 2)\n",
    "fig.append_trace(trace6, 2, 3)\n",
    "\n",
    "fig['layout'].update(height=1200, width=900,\n",
    "                     paper_bgcolor='rgb(233,233,233)', title=\"Visitor Profile Plots\")\n",
    "py.iplot(fig, filename='visitor-profile-plots')"
   ]
  },
  {
   "cell_type": "markdown",
   "metadata": {
    "_uuid": "fa7d921a36f47ed34e55fc566f9781e625432db0"
   },
   "source": [
    "Inferences:\n",
    "* Both these variables look very predictive\n",
    "* Count plot shows decreasing nature i.e. we have  a very high total count for less number of hits and page views per visitor transaction and the overall count decreases when the number of hits per visitor transaction increases.\n",
    "* On the other hand, we can clearly see that when the number of hits / pageviews per visitor transaction increases, we see that there is a high number of non-zero revenue counts. \n",
    "\n",
    "**Baseline Model:**\n",
    "\n",
    "Now let us build a baseline model on this dataset. Before we start building models, let us look at the variable names which are there in train dataset and not in test dataset. "
   ]
  },
  {
   "cell_type": "code",
   "execution_count": null,
   "metadata": {
    "ExecuteTime": {
     "end_time": "2018-09-29T07:02:42.346333Z",
     "start_time": "2018-09-29T07:02:42.341347Z"
    },
    "_uuid": "d008bbab982f36a922928f1dbe079202c380df33"
   },
   "outputs": [],
   "source": [
    "print(\"Variables not in test but in train : \", set(\n",
    "    train_df.columns).difference(set(test_df.columns)))"
   ]
  },
  {
   "cell_type": "markdown",
   "metadata": {
    "_uuid": "b0235902dbb12f2ac27c2c0442ce6b6ab50e9e61"
   },
   "source": [
    "So apart from target variable, there is one more variable \"trafficSource.campaignCode\" not present in test dataset. So we need to remove this variable while building models. Also we can drop the constant variables which we got earlier.\n",
    "\n",
    "Also we can remove the \"sessionId\" as it is a unique identifier of the visit."
   ]
  },
  {
   "cell_type": "code",
   "execution_count": null,
   "metadata": {
    "ExecuteTime": {
     "end_time": "2018-09-29T07:03:04.844578Z",
     "start_time": "2018-09-29T07:03:01.102632Z"
    },
    "_uuid": "13d15eed12437ae974f3ec03af6a2b6fba75ec4c"
   },
   "outputs": [],
   "source": [
    "cols_to_drop = const_cols + ['sessionId']\n",
    "\n",
    "train_df = train_df.drop(cols_to_drop + [\"trafficSource.campaignCode\"], axis=1)\n",
    "test_df = test_df.drop(cols_to_drop, axis=1)"
   ]
  },
  {
   "cell_type": "markdown",
   "metadata": {
    "_uuid": "0f5ae722a5beceacaf32f52a6691a57f05884be0"
   },
   "source": [
    "Now let us create development and validation splits based on time to build the model. We can take the last two months as validation sample."
   ]
  },
  {
   "cell_type": "code",
   "execution_count": null,
   "metadata": {
    "ExecuteTime": {
     "end_time": "2018-09-29T07:06:10.885982Z",
     "start_time": "2018-09-29T07:03:06.869189Z"
    },
    "_uuid": "1b4cc2fa9b1580c9d8a7ad43b5f75657e150fba3"
   },
   "outputs": [],
   "source": [
    "# Impute 0 for missing target values\n",
    "train_df[\"totals.transactionRevenue\"].fillna(0, inplace=True)\n",
    "train_y = train_df[\"totals.transactionRevenue\"].values\n",
    "train_id = train_df[\"fullVisitorId\"].values\n",
    "test_id = test_df[\"fullVisitorId\"].values\n",
    "\n",
    "\n",
    "# label encode the categorical variables and convert the numerical variables to float\n",
    "cat_cols = [\"channelGrouping\", \"device.browser\",\n",
    "            \"device.deviceCategory\", \"device.operatingSystem\",\n",
    "            \"geoNetwork.city\", \"geoNetwork.continent\",\n",
    "            \"geoNetwork.country\", \"geoNetwork.metro\",\n",
    "            \"geoNetwork.networkDomain\", \"geoNetwork.region\",\n",
    "            \"geoNetwork.subContinent\", \"trafficSource.adContent\",\n",
    "            \"trafficSource.adwordsClickInfo.adNetworkType\",\n",
    "            \"trafficSource.adwordsClickInfo.gclId\",\n",
    "            \"trafficSource.adwordsClickInfo.page\",\n",
    "            \"trafficSource.adwordsClickInfo.slot\", \"trafficSource.campaign\",\n",
    "            \"trafficSource.keyword\", \"trafficSource.medium\",\n",
    "            \"trafficSource.referralPath\", \"trafficSource.source\",\n",
    "            'trafficSource.adwordsClickInfo.isVideoAd', 'trafficSource.isTrueDirect']\n",
    "for col in cat_cols:\n",
    "    print(col)\n",
    "    lbl = preprocessing.LabelEncoder()\n",
    "    lbl.fit(list(train_df[col].values.astype('str')) +\n",
    "            list(test_df[col].values.astype('str')))\n",
    "    train_df[col] = lbl.transform(list(train_df[col].values.astype('str')))\n",
    "    test_df[col] = lbl.transform(list(test_df[col].values.astype('str')))\n",
    "\n",
    "\n",
    "num_cols = [\"totals.hits\", \"totals.pageviews\", \"visitNumber\",\n",
    "            \"visitStartTime\", 'totals.bounces',  'totals.newVisits']\n",
    "for col in num_cols:\n",
    "    train_df[col] = train_df[col].astype(float)\n",
    "    test_df[col] = test_df[col].astype(float)\n",
    "\n",
    "# Split the train dataset into development and valid based on time\n",
    "dev_df = train_df[train_df['date'] <= datetime.date(2017, 5, 31)]\n",
    "val_df = train_df[train_df['date'] > datetime.date(2017, 5, 31)]\n",
    "dev_y = np.log1p(dev_df[\"totals.transactionRevenue\"].values)\n",
    "val_y = np.log1p(val_df[\"totals.transactionRevenue\"].values)\n",
    "\n",
    "dev_X = dev_df[cat_cols + num_cols]\n",
    "val_X = val_df[cat_cols + num_cols]\n",
    "test_X = test_df[cat_cols + num_cols]"
   ]
  },
  {
   "cell_type": "code",
   "execution_count": null,
   "metadata": {
    "ExecuteTime": {
     "end_time": "2018-09-29T07:07:44.308327Z",
     "start_time": "2018-09-29T07:07:34.750296Z"
    },
    "_uuid": "3de965f248a0bf1a536d9230ef0f3cb9789b0763",
    "scrolled": true
   },
   "outputs": [],
   "source": [
    "# custom function to run light gbm model\n",
    "def run_lgb(train_X, train_y, val_X, val_y, test_X):\n",
    "    params = {\n",
    "        \"objective\": \"regression\",\n",
    "        \"metric\": \"rmse\",\n",
    "        \"num_leaves\": 30,\n",
    "        \"min_child_samples\": 100,\n",
    "        \"learning_rate\": 0.1,\n",
    "        \"bagging_fraction\": 0.7,\n",
    "        \"feature_fraction\": 0.5,\n",
    "        \"bagging_frequency\": 5,\n",
    "        \"bagging_seed\": 2018,\n",
    "        \"verbosity\": -1\n",
    "    }\n",
    "\n",
    "    lgtrain = lgb.Dataset(train_X, label=train_y)\n",
    "    lgval = lgb.Dataset(val_X, label=val_y)\n",
    "    model = lgb.train(params, lgtrain, 1000, valid_sets=[\n",
    "                      lgval], early_stopping_rounds=100, verbose_eval=100)\n",
    "\n",
    "    pred_test_y = model.predict(test_X, num_iteration=model.best_iteration)\n",
    "    pred_val_y = model.predict(val_X, num_iteration=model.best_iteration)\n",
    "    return pred_test_y, model, pred_val_y\n",
    "\n",
    "\n",
    "# Training the model #\n",
    "pred_test, model, pred_val = run_lgb(dev_X, dev_y, val_X, val_y, test_X)"
   ]
  },
  {
   "cell_type": "markdown",
   "metadata": {
    "_uuid": "a69ff5f2cb2b33b59056acd8b3048a189a20cd5a"
   },
   "source": [
    "Now let us compute the evaluation metric on the validation data as mentioned in [this new discussion thread](https://www.kaggle.com/c/ga-customer-revenue-prediction/discussion/66737). So we need to do a sum for all the transactions of the user and then do a log transformation on top. Let us also make the values less than 0 to 0 as transaction revenue can only be 0 or more. "
   ]
  },
  {
   "cell_type": "code",
   "execution_count": null,
   "metadata": {
    "ExecuteTime": {
     "end_time": "2018-09-29T07:07:50.543311Z",
     "start_time": "2018-09-29T07:07:50.355833Z"
    },
    "_uuid": "360ffb4d501ac2e35b274ac15efd031495c85ec3"
   },
   "outputs": [],
   "source": [
    "from sklearn import metrics\n",
    "pred_val[pred_val < 0] = 0\n",
    "val_pred_df = pd.DataFrame({\"fullVisitorId\": val_df[\"fullVisitorId\"].values})\n",
    "val_pred_df[\"transactionRevenue\"] = val_df[\"totals.transactionRevenue\"].values\n",
    "val_pred_df[\"PredictedRevenue\"] = np.expm1(pred_val)\n",
    "val_pred_df = val_pred_df.groupby(\"fullVisitorId\")[\n",
    "    \"transactionRevenue\", \"PredictedRevenue\"].sum().reset_index()\n",
    "print(np.sqrt(metrics.mean_squared_error(np.log1p(\n",
    "    val_pred_df[\"transactionRevenue\"].values), np.log1p(val_pred_df[\"PredictedRevenue\"].values))))"
   ]
  },
  {
   "cell_type": "markdown",
   "metadata": {
    "_uuid": "574dae973bc73351f6325db2a596a008fc8f8338"
   },
   "source": [
    "So we are getting a **validation score of 1.70** using this method against the **public leaderboard score of 1.44**. So please be cautious while dealing with this. \n",
    "\n",
    "Now let us prepare the submission file similar to validation set."
   ]
  },
  {
   "cell_type": "code",
   "execution_count": null,
   "metadata": {
    "ExecuteTime": {
     "end_time": "2018-09-29T07:08:07.090126Z",
     "start_time": "2018-09-29T07:08:03.797731Z"
    },
    "_uuid": "5a1b1b6dd5b277d59f8a4a06752c23bb8bd7a5ea"
   },
   "outputs": [],
   "source": [
    "sub_df = pd.DataFrame({\"fullVisitorId\": test_id})\n",
    "pred_test[pred_test < 0] = 0\n",
    "sub_df[\"PredictedLogRevenue\"] = np.expm1(pred_test)\n",
    "sub_df = sub_df.groupby(\"fullVisitorId\")[\n",
    "    \"PredictedLogRevenue\"].sum().reset_index()\n",
    "sub_df.columns = [\"fullVisitorId\", \"PredictedLogRevenue\"]\n",
    "sub_df[\"PredictedLogRevenue\"] = np.log1p(sub_df[\"PredictedLogRevenue\"])\n",
    "sub_df.to_csv(\"baseline_lgb.csv\", index=False)"
   ]
  },
  {
   "cell_type": "code",
   "execution_count": null,
   "metadata": {
    "ExecuteTime": {
     "end_time": "2018-09-29T07:08:12.279450Z",
     "start_time": "2018-09-29T07:08:12.271447Z"
    },
    "_uuid": "34da0a2ac754fb22062cd99f44f2422da7b35450"
   },
   "outputs": [],
   "source": [
    "sub_df.head()"
   ]
  },
  {
   "cell_type": "markdown",
   "metadata": {
    "_uuid": "4cbf691d8f8ce6bebe84b17f729cf7c7a0ad8c9b"
   },
   "source": [
    "**Feature Importance:**\n",
    "\n",
    "Now let us have a look at the important features of the light gbm model."
   ]
  },
  {
   "cell_type": "code",
   "execution_count": null,
   "metadata": {
    "ExecuteTime": {
     "end_time": "2018-09-29T07:08:18.633889Z",
     "start_time": "2018-09-29T07:08:18.227893Z"
    },
    "_uuid": "7a0da4195ac3e9683c29579b7700a21eb58fdcb8"
   },
   "outputs": [],
   "source": [
    "fig, ax = plt.subplots(figsize=(12, 18))\n",
    "lgb.plot_importance(model, max_num_features=50, height=0.8, ax=ax)\n",
    "ax.grid(False)\n",
    "plt.title(\"LightGBM - Feature Importance\", fontsize=15)\n",
    "plt.show()"
   ]
  },
  {
   "cell_type": "markdown",
   "metadata": {
    "_uuid": "e0458610aa52e885eaeaf83db91312d379424d15"
   },
   "source": [
    "\"totals.pageviews\" turn out to be the most important feature followed by \"totals.hits\" and \"visitStartTime\". "
   ]
  },
  {
   "cell_type": "markdown",
   "metadata": {
    "_uuid": "e2ed97686a372b89e874864f271765cdcbe9129b"
   },
   "source": [
    "**More to come. Stay tuned.!**"
   ]
  },
  {
   "cell_type": "markdown",
   "metadata": {},
   "source": [
    "# GG"
   ]
  },
  {
   "cell_type": "markdown",
   "metadata": {},
   "source": [
    "## Pickle Dump"
   ]
  },
  {
   "cell_type": "code",
   "execution_count": null,
   "metadata": {
    "ExecuteTime": {
     "end_time": "2018-10-24T17:51:29.370874Z",
     "start_time": "2018-10-24T17:51:29.357910Z"
    }
   },
   "outputs": [],
   "source": [
    "import pickle\n",
    "filename = 'pretrained_model/baseline_lgbm.sav'\n",
    "pickle.dump(model, open(filename, 'wb'))"
   ]
  },
  {
   "cell_type": "markdown",
   "metadata": {},
   "source": [
    "## Pickle Load"
   ]
  },
  {
   "cell_type": "code",
   "execution_count": null,
   "metadata": {
    "ExecuteTime": {
     "end_time": "2018-10-24T17:51:30.900441Z",
     "start_time": "2018-10-24T17:51:30.889471Z"
    }
   },
   "outputs": [],
   "source": [
    "loaded_model = pickle.load(open(filename, 'rb'))"
   ]
  },
  {
   "cell_type": "code",
   "execution_count": null,
   "metadata": {
    "ExecuteTime": {
     "end_time": "2018-09-29T07:29:04.524723Z",
     "start_time": "2018-09-29T07:29:04.520731Z"
    }
   },
   "outputs": [],
   "source": [
    "# loaded_model.predict"
   ]
  }
 ],
 "metadata": {
  "kernelspec": {
   "display_name": "Python 3",
   "language": "python",
   "name": "python3"
  },
  "language_info": {
   "codemirror_mode": {
    "name": "ipython",
    "version": 3
   },
   "file_extension": ".py",
   "mimetype": "text/x-python",
   "name": "python",
   "nbconvert_exporter": "python",
   "pygments_lexer": "ipython3",
   "version": "3.6.4"
  },
  "toc": {
   "base_numbering": 1,
   "nav_menu": {},
   "number_sections": true,
   "sideBar": true,
   "skip_h1_title": false,
   "title_cell": "Table of Contents",
   "title_sidebar": "Contents",
   "toc_cell": false,
   "toc_position": {},
   "toc_section_display": true,
   "toc_window_display": false
  },
  "varInspector": {
   "cols": {
    "lenName": "20",
    "lenType": "20",
    "lenVar": "60"
   },
   "kernels_config": {
    "python": {
     "delete_cmd_postfix": "",
     "delete_cmd_prefix": "del ",
     "library": "var_list.py",
     "varRefreshCmd": "print(var_dic_list())"
    },
    "r": {
     "delete_cmd_postfix": ") ",
     "delete_cmd_prefix": "rm(",
     "library": "var_list.r",
     "varRefreshCmd": "cat(var_dic_list()) "
    }
   },
   "types_to_exclude": [
    "module",
    "function",
    "builtin_function_or_method",
    "instance",
    "_Feature"
   ],
   "window_display": false
  }
 },
 "nbformat": 4,
 "nbformat_minor": 2
}
